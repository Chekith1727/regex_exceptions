{
  "nbformat": 4,
  "nbformat_minor": 0,
  "metadata": {
    "colab": {
      "provenance": []
    },
    "kernelspec": {
      "name": "python3",
      "display_name": "Python 3"
    },
    "language_info": {
      "name": "python"
    }
  },
  "cells": [
    {
      "cell_type": "markdown",
      "source": [
        "VALIDATE PASSWORD"
      ],
      "metadata": {
        "id": "TsjVr2xu3cay"
      }
    },
    {
      "cell_type": "code",
      "execution_count": 3,
      "metadata": {
        "colab": {
          "base_uri": "https://localhost:8080/"
        },
        "id": "lR2VSquv3HXx",
        "outputId": "c514ba8d-4054-48b2-bb43-cc2e6b513489"
      },
      "outputs": [
        {
          "output_type": "stream",
          "name": "stdout",
          "text": [
            "Correct password\n"
          ]
        }
      ],
      "source": [
        "import re\n",
        "\n",
        "password_pattern = r'^(?=.*[a-z])(?=.*[A-Z])(?=.*\\d)(?=.*[@#$%^&+=]).{8,}$'\n",
        "\n",
        "text = \"Password@123\"\n",
        "match = re.match(password_pattern, text)\n",
        "\n",
        "if match:\n",
        "    print(\"Correct password\")\n",
        "else:\n",
        "    print(\"Invalid password\")"
      ]
    },
    {
      "cell_type": "markdown",
      "source": [
        "VALIDATE URL"
      ],
      "metadata": {
        "id": "zoio9EG534EC"
      }
    },
    {
      "cell_type": "code",
      "source": [
        "url_pattern = r'^(https?://)?(www\\.)?[a-zA-Z0-9-]+\\.[a-zA-Z]{2,}(/[\\w\\-._~:/?#[\\]@!$&\\'()*+,;=]*)?$'\n",
        "\n",
        "text = \"https://www.google.com/\"\n",
        "match = re.match(url_pattern, text)\n",
        "\n",
        "if match:\n",
        "    print(\"Valid URL\")\n",
        "else:\n",
        "    print(\"Invalid URL\")"
      ],
      "metadata": {
        "colab": {
          "base_uri": "https://localhost:8080/"
        },
        "id": "OknkXWvG4I-c",
        "outputId": "0fc044e7-58c9-4f57-e054-076241e3d204"
      },
      "execution_count": 5,
      "outputs": [
        {
          "output_type": "stream",
          "name": "stdout",
          "text": [
            "Valid URL\n"
          ]
        }
      ]
    },
    {
      "cell_type": "markdown",
      "source": [
        "EXCEPTION HANDLING"
      ],
      "metadata": {
        "id": "Qd_0VSwd7Hlh"
      }
    },
    {
      "cell_type": "markdown",
      "source": [
        "ZERO DIVISION ERROR"
      ],
      "metadata": {
        "id": "wXpLzpSp5j7D"
      }
    },
    {
      "cell_type": "code",
      "source": [
        "try:\n",
        "  result = 10 / 0\n",
        "except ZeroDivisionError:\n",
        "  print(\"ZeroDivisionError: Division by zero is not allowed.\")"
      ],
      "metadata": {
        "colab": {
          "base_uri": "https://localhost:8080/"
        },
        "id": "_vqkFSTO427G",
        "outputId": "98e2575b-c34f-426b-ff27-6a8c53d01831"
      },
      "execution_count": 6,
      "outputs": [
        {
          "output_type": "stream",
          "name": "stdout",
          "text": [
            "ZeroDivisionError: Division by zero is not allowed.\n"
          ]
        }
      ]
    },
    {
      "cell_type": "markdown",
      "source": [
        "VALUE ERROR"
      ],
      "metadata": {
        "id": "YYZb6-h856x9"
      }
    },
    {
      "cell_type": "code",
      "source": [
        "try:\n",
        "  num = int(input(\"Enter a number: \"))\n",
        "except ValueError:\n",
        "  print(\"ValueError: Please enter a valid integer.\")"
      ],
      "metadata": {
        "colab": {
          "base_uri": "https://localhost:8080/"
        },
        "id": "OhRqXq2C5tiQ",
        "outputId": "ed0cbd73-5e99-44c4-8279-a93e1666920e"
      },
      "execution_count": 7,
      "outputs": [
        {
          "output_type": "stream",
          "name": "stdout",
          "text": [
            "Enter a number: q\n",
            "ValueError: Please enter a valid integer.\n"
          ]
        }
      ]
    },
    {
      "cell_type": "markdown",
      "source": [
        "CUSTOM EXCEPTION"
      ],
      "metadata": {
        "id": "6gqwtQkj61PH"
      }
    },
    {
      "cell_type": "code",
      "source": [
        "class NotEligible(Exception):\n",
        "  pass\n",
        "\n",
        "def checkage(age):\n",
        "  if age<18:\n",
        "    raise NotEligible(\"age must be 18\")\n",
        "  else:\n",
        "    print(\"eligible\")\n",
        "\n",
        "try:\n",
        "  checkage(16)\n",
        "except NotEligible as e:\n",
        "  print(\"error\")"
      ],
      "metadata": {
        "colab": {
          "base_uri": "https://localhost:8080/"
        },
        "id": "5Rftlip355Vb",
        "outputId": "79689493-9d58-4ea2-8e7c-885fd2bfcc61"
      },
      "execution_count": 11,
      "outputs": [
        {
          "output_type": "stream",
          "name": "stdout",
          "text": [
            "error\n"
          ]
        }
      ]
    },
    {
      "cell_type": "markdown",
      "source": [
        "FILE NOT FOUND ERROR"
      ],
      "metadata": {
        "id": "QlFSvT6J7ENm"
      }
    },
    {
      "cell_type": "code",
      "source": [
        "try:\n",
        "  with open(\"missing_file.txt\", \"r\") as f:\n",
        "    data = f.read()\n",
        "except FileNotFoundError:\n",
        "  print(\"FileNotFoundError: File does not exist.\")"
      ],
      "metadata": {
        "colab": {
          "base_uri": "https://localhost:8080/"
        },
        "id": "J15bVwG16QGy",
        "outputId": "65b68ee4-d2ba-4f02-c399-07970cc3047b"
      },
      "execution_count": 12,
      "outputs": [
        {
          "output_type": "stream",
          "name": "stdout",
          "text": [
            "FileNotFoundError: File does not exist.\n"
          ]
        }
      ]
    },
    {
      "cell_type": "code",
      "source": [],
      "metadata": {
        "id": "NUos6IFQ7DE1"
      },
      "execution_count": null,
      "outputs": []
    }
  ]
}